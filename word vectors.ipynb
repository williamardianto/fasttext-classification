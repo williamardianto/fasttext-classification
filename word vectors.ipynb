{
 "cells": [
  {
   "cell_type": "code",
   "execution_count": 13,
   "metadata": {},
   "outputs": [],
   "source": [
    "import numpy as np"
   ]
  },
  {
   "cell_type": "code",
   "execution_count": 14,
   "metadata": {},
   "outputs": [],
   "source": [
    "from gensim.models import FastText as ft\n",
    "model=ft.load_fasttext_format(\"cc.ms.300\")"
   ]
  },
  {
   "cell_type": "code",
   "execution_count": 17,
   "metadata": {},
   "outputs": [
    {
     "data": {
      "text/plain": [
       "1210897"
      ]
     },
     "execution_count": 17,
     "metadata": {},
     "output_type": "execute_result"
    }
   ],
   "source": [
    "model.vocabulary.vocab_size"
   ]
  },
  {
   "cell_type": "code",
   "execution_count": 21,
   "metadata": {
    "scrolled": true
   },
   "outputs": [],
   "source": [
    "# model.wv['makan']  "
   ]
  },
  {
   "cell_type": "code",
   "execution_count": 42,
   "metadata": {},
   "outputs": [
    {
     "data": {
      "text/plain": [
       "True"
      ]
     },
     "execution_count": 42,
     "metadata": {},
     "output_type": "execute_result"
    }
   ],
   "source": [
    "'najib' in model.wv.vocab"
   ]
  },
  {
   "cell_type": "code",
   "execution_count": 45,
   "metadata": {},
   "outputs": [
    {
     "name": "stdout",
     "output_type": "stream",
     "text": [
      "\u001b[31mTAGGED_normalised_BR1M_1202.xlsx\u001b[m\u001b[m\r\n",
      "\u001b[31mTAGGED_normalised_Budget2019_1202.xlsx\u001b[m\u001b[m\r\n",
      "\u001b[31mTAGGED_normalised_ICERD_1202.xlsx\u001b[m\u001b[m\r\n",
      "\u001b[31mTAGGED_normalised_PRKCameronHighlands_1202.xlsx\u001b[m\u001b[m\r\n",
      "\u001b[31mTAGGED_normalised_PRU14_1202.xlsx\u001b[m\u001b[m\r\n",
      "\u001b[31mTAGGED_normalised_SST_1202.xlsx\u001b[m\u001b[m\r\n"
     ]
    }
   ],
   "source": [
    "!ls ./data/Tweet\\ sentiment/"
   ]
  },
  {
   "cell_type": "code",
   "execution_count": 84,
   "metadata": {},
   "outputs": [],
   "source": [
    "import pandas as pd"
   ]
  },
  {
   "cell_type": "code",
   "execution_count": 85,
   "metadata": {},
   "outputs": [],
   "source": [
    "df1 = pd.read_excel('./data/Tweet sentiment/TAGGED_normalised_BR1M_1202.xlsx')\n",
    "df2 = pd.read_excel('./data/Tweet sentiment/TAGGED_normalised_Budget2019_1202.xlsx')\n",
    "df3 = pd.read_excel('./data/Tweet sentiment/TAGGED_normalised_ICERD_1202.xlsx')\n",
    "df4 = pd.read_excel('./data/Tweet sentiment/TAGGED_normalised_PRKCameronHighlands_1202.xlsx')\n",
    "df5 = pd.read_excel('./data/Tweet sentiment/TAGGED_normalised_PRU14_1202.xlsx')\n",
    "df6 = pd.read_excel('./data/Tweet sentiment/TAGGED_normalised_SST_1202.xlsx')"
   ]
  },
  {
   "cell_type": "code",
   "execution_count": 71,
   "metadata": {},
   "outputs": [],
   "source": [
    "df = pd.concat([df1, df2, df3, df4, df5, df6], axis=1)"
   ]
  },
  {
   "cell_type": "code",
   "execution_count": 76,
   "metadata": {},
   "outputs": [
    {
     "name": "stdout",
     "output_type": "stream",
     "text": [
      "(2448, 14)\n"
     ]
    },
    {
     "data": {
      "text/html": [
       "<div>\n",
       "<style scoped>\n",
       "    .dataframe tbody tr th:only-of-type {\n",
       "        vertical-align: middle;\n",
       "    }\n",
       "\n",
       "    .dataframe tbody tr th {\n",
       "        vertical-align: top;\n",
       "    }\n",
       "\n",
       "    .dataframe thead th {\n",
       "        text-align: right;\n",
       "    }\n",
       "</style>\n",
       "<table border=\"1\" class=\"dataframe\">\n",
       "  <thead>\n",
       "    <tr style=\"text-align: right;\">\n",
       "      <th></th>\n",
       "      <th>full_text</th>\n",
       "      <th>text4</th>\n",
       "      <th>Sentiment</th>\n",
       "      <th>Remark</th>\n",
       "      <th>Tagged by</th>\n",
       "      <th>#hashtags</th>\n",
       "      <th>#urls</th>\n",
       "      <th>#mentions</th>\n",
       "      <th>#word</th>\n",
       "      <th>#capital</th>\n",
       "      <th>#pos_emojis</th>\n",
       "      <th>#neg_emojis</th>\n",
       "      <th>#emojis</th>\n",
       "      <th>#exclaimation_question</th>\n",
       "    </tr>\n",
       "  </thead>\n",
       "  <tbody>\n",
       "    <tr>\n",
       "      <th>0</th>\n",
       "      <td>RT @bernamadotcom: Malaysia’s Mahathir @chedet...</td>\n",
       "      <td>malaysias mahathir arrives for africa conferen...</td>\n",
       "      <td>neu</td>\n",
       "      <td>NaN</td>\n",
       "      <td>William</td>\n",
       "      <td>0</td>\n",
       "      <td>1</td>\n",
       "      <td>2</td>\n",
       "      <td>13</td>\n",
       "      <td>1</td>\n",
       "      <td>0</td>\n",
       "      <td>0</td>\n",
       "      <td>0</td>\n",
       "      <td>0</td>\n",
       "    </tr>\n",
       "    <tr>\n",
       "      <th>1</th>\n",
       "      <td>RT @theedgemarkets: Highlight: Judiciary has z...</td>\n",
       "      <td>highlight judiciary has zero tolerance for cor...</td>\n",
       "      <td>NaN</td>\n",
       "      <td>NaN</td>\n",
       "      <td>NaN</td>\n",
       "      <td>0</td>\n",
       "      <td>1</td>\n",
       "      <td>1</td>\n",
       "      <td>20</td>\n",
       "      <td>2</td>\n",
       "      <td>0</td>\n",
       "      <td>0</td>\n",
       "      <td>0</td>\n",
       "      <td>0</td>\n",
       "    </tr>\n",
       "    <tr>\n",
       "      <th>2</th>\n",
       "      <td>RT @BernamaNewsCH: Sultan Johor berkenan mengh...</td>\n",
       "      <td>sultan johor berkenan menghantar dr mahathir k...</td>\n",
       "      <td>pos</td>\n",
       "      <td>NaN</td>\n",
       "      <td>SY</td>\n",
       "      <td>0</td>\n",
       "      <td>0</td>\n",
       "      <td>1</td>\n",
       "      <td>29</td>\n",
       "      <td>1</td>\n",
       "      <td>0</td>\n",
       "      <td>0</td>\n",
       "      <td>0</td>\n",
       "      <td>0</td>\n",
       "    </tr>\n",
       "    <tr>\n",
       "      <th>3</th>\n",
       "      <td>RT @bernamadotcom: Perdana Menteri Dr Mahathir...</td>\n",
       "      <td>perdana menteri dr mahathir luang masa hadir p...</td>\n",
       "      <td>pos</td>\n",
       "      <td>compliments</td>\n",
       "      <td>SY</td>\n",
       "      <td>0</td>\n",
       "      <td>0</td>\n",
       "      <td>2</td>\n",
       "      <td>21</td>\n",
       "      <td>2</td>\n",
       "      <td>0</td>\n",
       "      <td>0</td>\n",
       "      <td>0</td>\n",
       "      <td>0</td>\n",
       "    </tr>\n",
       "    <tr>\n",
       "      <th>4</th>\n",
       "      <td>RT @bernamadotcom: PM Mahathir @chedetofficial...</td>\n",
       "      <td>pm mahathir arriving at conference center in d...</td>\n",
       "      <td>neu</td>\n",
       "      <td>NaN</td>\n",
       "      <td>William</td>\n",
       "      <td>0</td>\n",
       "      <td>0</td>\n",
       "      <td>2</td>\n",
       "      <td>19</td>\n",
       "      <td>2</td>\n",
       "      <td>0</td>\n",
       "      <td>0</td>\n",
       "      <td>0</td>\n",
       "      <td>0</td>\n",
       "    </tr>\n",
       "  </tbody>\n",
       "</table>\n",
       "</div>"
      ],
      "text/plain": [
       "                                           full_text  \\\n",
       "0  RT @bernamadotcom: Malaysia’s Mahathir @chedet...   \n",
       "1  RT @theedgemarkets: Highlight: Judiciary has z...   \n",
       "2  RT @BernamaNewsCH: Sultan Johor berkenan mengh...   \n",
       "3  RT @bernamadotcom: Perdana Menteri Dr Mahathir...   \n",
       "4  RT @bernamadotcom: PM Mahathir @chedetofficial...   \n",
       "\n",
       "                                               text4 Sentiment       Remark  \\\n",
       "0  malaysias mahathir arrives for africa conferen...       neu          NaN   \n",
       "1  highlight judiciary has zero tolerance for cor...       NaN          NaN   \n",
       "2  sultan johor berkenan menghantar dr mahathir k...       pos          NaN   \n",
       "3  perdana menteri dr mahathir luang masa hadir p...       pos  compliments   \n",
       "4  pm mahathir arriving at conference center in d...       neu          NaN   \n",
       "\n",
       "  Tagged by  #hashtags  #urls  #mentions  #word  #capital  #pos_emojis  \\\n",
       "0   William          0      1          2     13         1            0   \n",
       "1       NaN          0      1          1     20         2            0   \n",
       "2        SY          0      0          1     29         1            0   \n",
       "3        SY          0      0          2     21         2            0   \n",
       "4   William          0      0          2     19         2            0   \n",
       "\n",
       "   #neg_emojis  #emojis  #exclaimation_question  \n",
       "0            0        0                       0  \n",
       "1            0        0                       0  \n",
       "2            0        0                       0  \n",
       "3            0        0                       0  \n",
       "4            0        0                       0  "
      ]
     },
     "execution_count": 76,
     "metadata": {},
     "output_type": "execute_result"
    }
   ],
   "source": [
    "print(df.shape)\n",
    "df.head()"
   ]
  },
  {
   "cell_type": "code",
   "execution_count": 60,
   "metadata": {},
   "outputs": [
    {
     "data": {
      "text/plain": [
       "155"
      ]
     },
     "execution_count": 60,
     "metadata": {},
     "output_type": "execute_result"
    }
   ],
   "source": [
    "(~df['sentiment'].isna()).sum()"
   ]
  },
  {
   "cell_type": "code",
   "execution_count": null,
   "metadata": {},
   "outputs": [],
   "source": []
  },
  {
   "cell_type": "code",
   "execution_count": 83,
   "metadata": {},
   "outputs": [
    {
     "name": "stdout",
     "output_type": "stream",
     "text": [
      "155 200\n",
      "34 34\n",
      "109 332\n",
      "174 1699\n",
      "328 694\n",
      "398 2448\n",
      "1198\n"
     ]
    }
   ],
   "source": [
    "df_list=[df1, df2, df3, df4, df5, df6]\n",
    "\n",
    "total = 0\n",
    "for df in df_list:\n",
    "#     print(df.columns)\n",
    "    tagged = (~df['Sentiment'].isna()).sum()\n",
    "    df_len = len(df)\n",
    "    print(tagged, df_len)\n",
    "    total+= tagged\n",
    "    \n",
    "    \n",
    "print(total)"
   ]
  },
  {
   "cell_type": "code",
   "execution_count": null,
   "metadata": {},
   "outputs": [],
   "source": []
  }
 ],
 "metadata": {
  "kernelspec": {
   "display_name": "Python 3",
   "language": "python",
   "name": "python3"
  },
  "language_info": {
   "codemirror_mode": {
    "name": "ipython",
    "version": 3
   },
   "file_extension": ".py",
   "mimetype": "text/x-python",
   "name": "python",
   "nbconvert_exporter": "python",
   "pygments_lexer": "ipython3",
   "version": "3.6.7"
  }
 },
 "nbformat": 4,
 "nbformat_minor": 2
}
